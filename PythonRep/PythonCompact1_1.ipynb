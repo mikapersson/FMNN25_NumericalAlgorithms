{
 "cells": [
  {
   "cell_type": "markdown",
   "metadata": {
    "collapsed": true,
    "nbpresent": {
     "id": "a29330cd-2561-4929-a3f3-de69b741065a"
    },
    "slideshow": {
     "slide_type": "slide"
    }
   },
   "source": [
    "Short introduction to Python for\n",
    "Matlab users\n",
    "\n",
    "\n",
    "Claus Führer, Numerical Analysis, Matematikcentrum\n",
    "\n",
    "Najmeh Abiri, Computational Biology, Fysikum\n",
    "\n",
    "\n",
    "# Python Compact - Part 1\n",
    "\n"
   ]
  },
  {
   "cell_type": "markdown",
   "metadata": {
    "nbpresent": {
     "id": "c7c75234-2ba6-4461-b0d3-588ce41c2bab"
    },
    "slideshow": {
     "slide_type": "slide"
    }
   },
   "source": [
    "# What do we cover in this introduction lecture?\n",
    "\n",
    "  1. [Preparation](#preparation)    \n",
    "  1. [Elementary Datatypes](#elemdatatypes) \n",
    "  1. [Program Flow](#programflow)  \n",
    "  1. [Container Types](#container)  \n",
    "  1. [Functions](#functions) \n",
    "  1. [Arrays](#arrays) \n",
    "  1. [Plotting](#plotting)\n",
    "  1. [Exceptions](#exceptions)\n",
    "  1. [Training Tasks](#tasks)"
   ]
  },
  {
   "cell_type": "markdown",
   "metadata": {
    "nbpresent": {
     "id": "3d2c65c7-dbdf-4fcd-8b06-d9053f73855b"
    },
    "slideshow": {
     "slide_type": "slide"
    }
   },
   "source": [
    "## What is also interesting to know?\n",
    "\n",
    "* Testing, Profiling\n",
    "* Iterators"
   ]
  },
  {
   "cell_type": "markdown",
   "metadata": {
    "nbpresent": {
     "id": "f03ba7bd-ff0d-4c40-9acd-1ee7bd0e5918"
    },
    "slideshow": {
     "slide_type": "slide"
    }
   },
   "source": [
    "## Preparation <a id=\"preparation\"></a>\n",
    "\n",
    "Everywhere in this course: in files, in shells we start with"
   ]
  },
  {
   "cell_type": "code",
   "execution_count": 1,
   "metadata": {
    "collapsed": true,
    "nbpresent": {
     "id": "9e4a083a-44d3-493b-af08-7cf307b54601"
    },
    "slideshow": {
     "slide_type": "-"
    }
   },
   "outputs": [],
   "source": [
    "from scipy import *\n",
    "from matplotlib.pyplot import *"
   ]
  },
  {
   "cell_type": "markdown",
   "metadata": {
    "nbpresent": {
     "id": "84039987-e366-4ff4-b497-c1b819fe549a"
    },
    "slideshow": {
     "slide_type": "-"
    }
   },
   "source": [
    "#### Tools you will need in this course:\n",
    "\n",
    "* Ipython\n",
    "* Spyder\n",
    "* jupyter-notebook"
   ]
  },
  {
   "cell_type": "markdown",
   "metadata": {
    "nbpresent": {
     "id": "6329cfaa-8b70-4a23-b0c2-9af82a2a1247"
    },
    "slideshow": {
     "slide_type": "slide"
    }
   },
   "source": [
    "## Elementary datatypes <a id=\"elemdatatypes\"></a>\n",
    "### Numeric Types"
   ]
  },
  {
   "cell_type": "code",
   "execution_count": 2,
   "metadata": {
    "collapsed": true,
    "nbpresent": {
     "id": "8aab1510-ddec-46e8-93e6-7f03a1c374a3"
    },
    "slideshow": {
     "slide_type": "-"
    }
   },
   "outputs": [],
   "source": [
    "i = 1            #  an integer\n",
    "x = 2.           # a float\n",
    "z = y = 3.e-8\n",
    "c = 1.-3         # automatic type conversion\n",
    "d = 1.+3.j       # a complex number\n"
   ]
  },
  {
   "cell_type": "markdown",
   "metadata": {
    "collapsed": true,
    "nbpresent": {
     "id": "75eef36c-a2e7-437b-84e7-8a6e4bd2fdcb"
    },
    "slideshow": {
     "slide_type": "slide"
    }
   },
   "source": [
    "## Elementary datatypes  \n",
    "### Strings"
   ]
  },
  {
   "cell_type": "code",
   "execution_count": 3,
   "metadata": {
    "nbpresent": {
     "id": "59c6c9bc-9893-402c-a349-431c0fe6e984"
    },
    "slideshow": {
     "slide_type": "-"
    }
   },
   "outputs": [
    {
     "data": {
      "text/plain": [
       "'We learn Python fast. We learn Python fast. '"
      ]
     },
     "execution_count": 3,
     "metadata": {},
     "output_type": "execute_result"
    }
   ],
   "source": [
    "text = 'We learn Python'\n",
    "speed = 'fast'\n",
    "how = 'fast. ' if speed else 'slow. '   # note the conditioned assignment\n",
    "now = text + ' ' + how                  # concatination by \"+\"\n",
    "2 * now"
   ]
  },
  {
   "cell_type": "markdown",
   "metadata": {
    "nbpresent": {
     "id": "bde2530d-2ff5-459b-bcaf-0ec005bb3ef2"
    },
    "slideshow": {
     "slide_type": "slide"
    }
   },
   "source": [
    "## Summary: Elementary Datatypes\n",
    "\n",
    "* we saw integers, floats, complex numbers, Booleans and strings\n",
    "* we saw different ways to assign values to a variable\n",
    "* we saw concatination of strings\n",
    "* we saw `print()` and `type()`"
   ]
  },
  {
   "cell_type": "markdown",
   "metadata": {
    "collapsed": true,
    "nbpresent": {
     "id": "047890b3-6628-470e-86d1-49be53327d88"
    },
    "slideshow": {
     "slide_type": "slide"
    }
   },
   "source": [
    "\n",
    "## Program Flow:  Block commands <a id=\"programflow\"></a>\n",
    "\n",
    "The flow is controlled by loops, conditional statements and functions"
   ]
  },
  {
   "cell_type": "code",
   "execution_count": 4,
   "metadata": {
    "nbpresent": {
     "id": "661909e6-dbd1-455a-bdf7-12014e779068"
    },
    "slideshow": {
     "slide_type": "-"
    }
   },
   "outputs": [
    {
     "name": "stdout",
     "output_type": "stream",
     "text": [
      "0\n",
      "0\n",
      "1\n",
      "1\n",
      "2\n",
      "4\n"
     ]
    }
   ],
   "source": [
    "for i in range(3):\n",
    "    print(i)\n",
    "    j = i**2\n",
    "    print(j)\n",
    "    "
   ]
  },
  {
   "cell_type": "markdown",
   "metadata": {
    "nbpresent": {
     "id": "96d70a02-d1e1-4c62-8fb0-3dd3b1c2b407"
    },
    "slideshow": {
     "slide_type": "-"
    }
   },
   "source": [
    "Mind the intendation!"
   ]
  },
  {
   "cell_type": "markdown",
   "metadata": {
    "nbpresent": {
     "id": "2511954f-7e97-46b7-8b13-cb581714efb4"
    },
    "slideshow": {
     "slide_type": "slide"
    }
   },
   "source": [
    "#### Nested Loop:"
   ]
  },
  {
   "cell_type": "code",
   "execution_count": 5,
   "metadata": {
    "nbpresent": {
     "id": "bc8a6361-2b9c-4950-998b-5ac503079926"
    },
    "slideshow": {
     "slide_type": "-"
    }
   },
   "outputs": [
    {
     "name": "stdout",
     "output_type": "stream",
     "text": [
      "(0, 0) \n",
      "\n",
      "(1, 0) (1, 1) \n",
      "\n",
      "(2, 0) (2, 1) (2, 2) \n",
      "\n",
      "(3, 0) (3, 1) (3, 2) (3, 3) \n",
      "\n",
      "(4, 0) (4, 1) (4, 2) (4, 3) (4, 4) \n",
      "\n"
     ]
    }
   ],
   "source": [
    "for i in range(5):\n",
    "    for j in range(i + 1):\n",
    "        print( (i,j), end = ' ')\n",
    "    print('\\n')      # Makes a new line"
   ]
  },
  {
   "cell_type": "markdown",
   "metadata": {
    "nbpresent": {
     "id": "8d802290-ceae-4a90-933c-a1794f31ae95"
    },
    "slideshow": {
     "slide_type": "slide"
    }
   },
   "source": [
    "#### Conditional statement"
   ]
  },
  {
   "cell_type": "code",
   "execution_count": 6,
   "metadata": {
    "nbpresent": {
     "id": "e7768fd8-b39c-4618-9555-c34ff92df159"
    },
    "slideshow": {
     "slide_type": "-"
    }
   },
   "outputs": [
    {
     "name": "stdout",
     "output_type": "stream",
     "text": [
      "None\n"
     ]
    }
   ],
   "source": [
    "b = False\n",
    "if b :\n",
    "    j = 2 * j\n",
    "else:\n",
    "    j = None\n",
    "print(j)"
   ]
  },
  {
   "cell_type": "markdown",
   "metadata": {
    "nbpresent": {
     "id": "95dcd6c2-50d8-4205-9cc6-418f86c4b6ca"
    },
    "slideshow": {
     "slide_type": "slide"
    }
   },
   "source": [
    "#### Loop constructions: `break`, `else`"
   ]
  },
  {
   "cell_type": "code",
   "execution_count": 7,
   "metadata": {
    "nbpresent": {
     "id": "6a04ed99-f4e1-4247-adb4-665804e82795"
    },
    "slideshow": {
     "slide_type": "-"
    }
   },
   "outputs": [
    {
     "name": "stdout",
     "output_type": "stream",
     "text": [
      "j found\n"
     ]
    }
   ],
   "source": [
    "j = 30\n",
    "for i in range(100):\n",
    "    if i == j:\n",
    "        break\n",
    "else:\n",
    "    raise Exception('j not found')\n",
    "print('j found')"
   ]
  },
  {
   "cell_type": "markdown",
   "metadata": {
    "nbpresent": {
     "id": "105bef31-0185-4151-95bb-122ef5a14812"
    },
    "slideshow": {
     "slide_type": "slide"
    }
   },
   "source": [
    "## Container types <a id=\"container\"></a>\n",
    "\n",
    "### Lists\n"
   ]
  },
  {
   "cell_type": "code",
   "execution_count": 8,
   "metadata": {
    "nbpresent": {
     "id": "641791d9-8ce7-42aa-b485-08f4ac160672"
    },
    "slideshow": {
     "slide_type": "-"
    }
   },
   "outputs": [
    {
     "name": "stdout",
     "output_type": "stream",
     "text": [
      "[1, 2, 'aha']\n",
      "1\n",
      "aha\n"
     ]
    }
   ],
   "source": [
    "a = [1,2,'aha']\n",
    "print(a)\n",
    "b = [1,a]\n",
    "a[0]\n",
    "print(a[0])\n",
    "print(b[1][2])"
   ]
  },
  {
   "cell_type": "code",
   "execution_count": 9,
   "metadata": {
    "nbpresent": {
     "id": "88609e7c-2cca-415e-8ca5-d26b5226d801"
    },
    "slideshow": {
     "slide_type": "-"
    }
   },
   "outputs": [
    {
     "data": {
      "text/plain": [
       "[1, 2, 'aha', 1, [1, 2, 'aha']]"
      ]
     },
     "execution_count": 9,
     "metadata": {},
     "output_type": "execute_result"
    }
   ],
   "source": [
    "a+b"
   ]
  },
  {
   "cell_type": "code",
   "execution_count": 10,
   "metadata": {
    "nbpresent": {
     "id": "c9e025be-a31a-41d4-b61e-41547a551569"
    },
    "slideshow": {
     "slide_type": "-"
    }
   },
   "outputs": [
    {
     "name": "stdout",
     "output_type": "stream",
     "text": [
      "7\n",
      "[4, 5, 6, 7]\n",
      "[0, 1]\n"
     ]
    }
   ],
   "source": [
    "c = list(range(0,8))\n",
    "print(c[-1])\n",
    "print(c[-4:])\n",
    "print(c[0:2]) # Note the \"hotel booking\" rule.  "
   ]
  },
  {
   "cell_type": "markdown",
   "metadata": {
    "nbpresent": {
     "id": "0439d392-6310-4557-9e34-20d3b7eaa2b9"
    },
    "slideshow": {
     "slide_type": "slide"
    }
   },
   "source": [
    "### List comprehension"
   ]
  },
  {
   "cell_type": "code",
   "execution_count": 11,
   "metadata": {
    "nbpresent": {
     "id": "6cd059d4-b3e2-47e0-aeed-28fe7036df7c"
    },
    "slideshow": {
     "slide_type": "-"
    }
   },
   "outputs": [
    {
     "name": "stdout",
     "output_type": "stream",
     "text": [
      "[26, 82, 485, 1445]\n",
      "\n",
      "\n",
      "[23, 39]\n"
     ]
    }
   ],
   "source": [
    "base_list = [5,9,22,38]\n",
    "\n",
    "new_list = [l**2+1 for l in base_list]\n",
    "\n",
    "other_list=[l+1 for l in base_list if l%2 == 0 ]\n",
    "\n",
    "print(new_list,end=3 * '\\n')\n",
    "\n",
    "print(other_list)"
   ]
  },
  {
   "cell_type": "markdown",
   "metadata": {
    "nbpresent": {
     "id": "ee3bce27-7c90-4b9b-af53-d2dfbbdff37a"
    },
    "slideshow": {
     "slide_type": "slide"
    }
   },
   "source": [
    "#### List Operations\n",
    "\n",
    "note the *inplace* operations"
   ]
  },
  {
   "cell_type": "code",
   "execution_count": 12,
   "metadata": {
    "nbpresent": {
     "id": "0f935694-d4d4-4c61-8230-8adea2f4e2b9"
    }
   },
   "outputs": [
    {
     "name": "stdout",
     "output_type": "stream",
     "text": [
      "sorted list L= [-10, 1, 2, 3, 29]\n",
      "reversed list L= [29, 3, 2, 1, -10]\n",
      "extended list L= [29, 3, 2, 1, -10, 70]\n",
      "last element removed L= [29, 3, 2, 1, -10]\n"
     ]
    }
   ],
   "source": [
    "L=[1,2,3,29,-10]\n",
    "L.sort()\n",
    "print('sorted list L=', L)\n",
    "L.reverse()\n",
    "print('reversed list L=',L)\n",
    "L.append(70)\n",
    "print('extended list L=', L)\n",
    "L.pop()\n",
    "print('last element removed L=',L)"
   ]
  },
  {
   "cell_type": "markdown",
   "metadata": {
    "nbpresent": {
     "id": "0cfa6bc9-6b88-49d2-a880-23825a0d0d31"
    },
    "slideshow": {
     "slide_type": "slide"
    }
   },
   "source": [
    "Summary\n",
    "\n",
    "* Lists and lists of lists\n",
    "* indexing and slices\n",
    "* negative indexing\n",
    "* 'Hotel'booking rule\n",
    "* List comprehension\n",
    "* `list(range(...))`"
   ]
  },
  {
   "cell_type": "markdown",
   "metadata": {
    "collapsed": true,
    "nbpresent": {
     "id": "11097492-72ab-4055-bf98-86e2aa3e0767"
    },
    "slideshow": {
     "slide_type": "slide"
    }
   },
   "source": [
    "### Dictionaries"
   ]
  },
  {
   "cell_type": "code",
   "execution_count": 13,
   "metadata": {
    "collapsed": true,
    "nbpresent": {
     "id": "9beb03dc-0aa0-4573-83f3-ca442e4a144a"
    },
    "slideshow": {
     "slide_type": "-"
    }
   },
   "outputs": [],
   "source": [
    "truck={'bodies':['frWheel','reWheel','Chassis','Cabine','Load'],\n",
    "      'total length':15,'total weight':30000}"
   ]
  },
  {
   "cell_type": "code",
   "execution_count": 14,
   "metadata": {
    "nbpresent": {
     "id": "37410d50-3727-4bf3-bc08-f72feec40193"
    },
    "slideshow": {
     "slide_type": "-"
    }
   },
   "outputs": [
    {
     "data": {
      "text/plain": [
       "dict_keys(['total length', 'bodies', 'total weight'])"
      ]
     },
     "execution_count": 14,
     "metadata": {},
     "output_type": "execute_result"
    }
   ],
   "source": [
    "truck.keys()"
   ]
  },
  {
   "cell_type": "markdown",
   "metadata": {
    "nbpresent": {
     "id": "b8477707-420b-4f21-9e29-b93db2567511"
    },
    "slideshow": {
     "slide_type": "slide"
    }
   },
   "source": [
    "### Tuples"
   ]
  },
  {
   "cell_type": "code",
   "execution_count": 15,
   "metadata": {
    "nbpresent": {
     "id": "ed95780c-fa3d-49df-a4c3-dca9326eb72b"
    },
    "slideshow": {
     "slide_type": "-"
    }
   },
   "outputs": [
    {
     "name": "stdout",
     "output_type": "stream",
     "text": [
      "(2, 3)\n",
      "('anna', 23)\n",
      "(2, 3, 'anna', 23)\n",
      "23\n"
     ]
    }
   ],
   "source": [
    "a=2,3\n",
    "print(a)\n",
    "b=('anna',23)\n",
    "print(b)\n",
    "print(a+b)\n",
    "print(b[1])"
   ]
  },
  {
   "cell_type": "markdown",
   "metadata": {
    "nbpresent": {
     "id": "077cde8c-ebc6-4173-9279-af80ff7a7832"
    },
    "slideshow": {
     "slide_type": "-"
    }
   },
   "source": [
    "A tuple is an immutable list. What means immutable?"
   ]
  },
  {
   "cell_type": "code",
   "execution_count": 16,
   "metadata": {
    "nbpresent": {
     "id": "1cad6735-8f42-4a0a-934f-4bb3f0126759"
    },
    "slideshow": {
     "slide_type": "-"
    }
   },
   "outputs": [
    {
     "ename": "TypeError",
     "evalue": "'tuple' object does not support item assignment",
     "output_type": "error",
     "traceback": [
      "\u001b[1;31m---------------------------------------------------------------------------\u001b[0m",
      "\u001b[1;31mTypeError\u001b[0m                                 Traceback (most recent call last)",
      "\u001b[1;32m<ipython-input-16-74c169ca2cd8>\u001b[0m in \u001b[0;36m<module>\u001b[1;34m()\u001b[0m\n\u001b[1;32m----> 1\u001b[1;33m \u001b[0mb\u001b[0m\u001b[1;33m[\u001b[0m\u001b[1;36m1\u001b[0m\u001b[1;33m]\u001b[0m\u001b[1;33m=\u001b[0m\u001b[1;33m-\u001b[0m\u001b[1;36m2\u001b[0m\u001b[1;33m\u001b[0m\u001b[0m\n\u001b[0m",
      "\u001b[1;31mTypeError\u001b[0m: 'tuple' object does not support item assignment"
     ]
    }
   ],
   "source": [
    "b[1]=-2"
   ]
  },
  {
   "cell_type": "markdown",
   "metadata": {
    "nbpresent": {
     "id": "7fecdc31-8aed-4ec4-a29f-fb9bc8a2aaa0"
    },
    "slideshow": {
     "slide_type": "slide"
    }
   },
   "source": [
    "#### Warning:  Changing in sub list has side effects!"
   ]
  },
  {
   "cell_type": "code",
   "execution_count": 17,
   "metadata": {
    "nbpresent": {
     "id": "7047b62c-5470-4ca9-86d0-531d56073bb6"
    },
    "slideshow": {
     "slide_type": "-"
    }
   },
   "outputs": [
    {
     "name": "stdout",
     "output_type": "stream",
     "text": [
      "[4, 5, [1, 2, 3]]\n",
      "[4, 5, [1, 2, -300]]\n"
     ]
    }
   ],
   "source": [
    "a=[1,2,3]\n",
    "b=[4,5,a]\n",
    "print(b)\n",
    "a[2]=-300\n",
    "print(b)"
   ]
  },
  {
   "cell_type": "code",
   "execution_count": 18,
   "metadata": {
    "nbpresent": {
     "id": "a8126334-a77c-4953-8996-d33067dc2440"
    },
    "slideshow": {
     "slide_type": "-"
    }
   },
   "outputs": [
    {
     "name": "stdout",
     "output_type": "stream",
     "text": [
      "(4, 5, [1, 2, -300])\n",
      "(4, 5, [1, 2, 70])\n"
     ]
    }
   ],
   "source": [
    "b=tuple(b)\n",
    "print(b)\n",
    "a[2]=70\n",
    "print(b)"
   ]
  },
  {
   "cell_type": "code",
   "execution_count": 19,
   "metadata": {
    "nbpresent": {
     "id": "0f0cf3aa-21d8-48f4-8d83-b921d0304193"
    },
    "slideshow": {
     "slide_type": "-"
    }
   },
   "outputs": [
    {
     "name": "stdout",
     "output_type": "stream",
     "text": [
      "-234\n"
     ]
    }
   ],
   "source": [
    "b=[1,2]\n",
    "a=b\n",
    "b[1]=-234\n",
    "print(a[1])"
   ]
  },
  {
   "cell_type": "markdown",
   "metadata": {},
   "source": [
    "#### Copy removes these side effects"
   ]
  },
  {
   "cell_type": "code",
   "execution_count": 20,
   "metadata": {
    "nbpresent": {
     "id": "9bd2fc3c-4177-4edd-8c4e-e37d3defc0d6"
    },
    "slideshow": {
     "slide_type": "slide"
    }
   },
   "outputs": [
    {
     "data": {
      "text/plain": [
       "-234"
      ]
     },
     "execution_count": 20,
     "metadata": {},
     "output_type": "execute_result"
    }
   ],
   "source": [
    "a=b.copy()\n",
    "b[1]=1\n",
    "a[1]"
   ]
  },
  {
   "cell_type": "markdown",
   "metadata": {
    "nbpresent": {
     "id": "80b037c5-df0c-4d51-9b56-ee987637988e"
    },
    "slideshow": {
     "slide_type": "slide"
    }
   },
   "source": [
    "### Unpacking , Packing"
   ]
  },
  {
   "cell_type": "code",
   "execution_count": 21,
   "metadata": {
    "collapsed": true,
    "nbpresent": {
     "id": "12d36ea4-31b8-4c18-b0f0-44ffe8b9be55"
    },
    "slideshow": {
     "slide_type": "-"
    }
   },
   "outputs": [],
   "source": [
    "a=1\n",
    "b=b\n",
    "c,d=a,b"
   ]
  },
  {
   "cell_type": "markdown",
   "metadata": {
    "nbpresent": {
     "id": "451374c5-6f1c-46d8-8ec5-8c5383e03414"
    },
    "slideshow": {
     "slide_type": "-"
    }
   },
   "source": [
    "*or even*"
   ]
  },
  {
   "cell_type": "code",
   "execution_count": 22,
   "metadata": {
    "collapsed": true,
    "nbpresent": {
     "id": "238e4172-527c-4233-80d1-1f12dd98687e"
    },
    "slideshow": {
     "slide_type": "-"
    }
   },
   "outputs": [],
   "source": [
    "b,a = a,b  # the swapping trick"
   ]
  },
  {
   "cell_type": "markdown",
   "metadata": {
    "nbpresent": {
     "id": "2b598a77-2989-4449-afaf-cc05700cd563"
    },
    "slideshow": {
     "slide_type": "slide"
    }
   },
   "source": [
    "### Summary:\n",
    "* lists, list indexing, slices\n",
    "* dictionaries, keys, values, items\n",
    "* tuples, immutable\n",
    "* copy\n",
    "* packing, unpacking"
   ]
  },
  {
   "cell_type": "markdown",
   "metadata": {
    "collapsed": true,
    "nbpresent": {
     "id": "77bf7606-4566-4752-b014-b25d80166249"
    },
    "slideshow": {
     "slide_type": "slide"
    }
   },
   "source": [
    "## Functions <a id=\"functions\"></a>"
   ]
  },
  {
   "cell_type": "code",
   "execution_count": 23,
   "metadata": {
    "collapsed": true,
    "nbpresent": {
     "id": "6e6da67c-541f-4215-8221-268c685ec26e"
    },
    "slideshow": {
     "slide_type": "-"
    }
   },
   "outputs": [],
   "source": [
    "def my_func(p1, p2, p3 = None):\n",
    "    a = p1*p2 + p3 if p3 != None else p1*p2\n",
    "    b = p1**2\n",
    "    return a, b"
   ]
  },
  {
   "cell_type": "code",
   "execution_count": 24,
   "metadata": {
    "collapsed": true,
    "nbpresent": {
     "id": "2e9c3c2d-c1c8-4c82-b2dd-c167b3419d02"
    },
    "slideshow": {
     "slide_type": "-"
    }
   },
   "outputs": [],
   "source": [
    "r1, r2 = my_func(1, 2, 5)"
   ]
  },
  {
   "cell_type": "markdown",
   "metadata": {
    "nbpresent": {
     "id": "2c933441-8037-4cb5-b258-1d8993ddeea1"
    },
    "slideshow": {
     "slide_type": "slide"
    }
   },
   "source": [
    "** `lambda` Functions: Defining functions on the fly **"
   ]
  },
  {
   "cell_type": "code",
   "execution_count": 25,
   "metadata": {
    "nbpresent": {
     "id": "6219b72a-0bae-45ba-a933-bb9d7ed5f173"
    },
    "slideshow": {
     "slide_type": "-"
    }
   },
   "outputs": [
    {
     "data": {
      "text/plain": [
       "-1.2246467991473532e-16"
      ]
     },
     "execution_count": 25,
     "metadata": {},
     "output_type": "execute_result"
    }
   ],
   "source": [
    "f = lambda x: sin(x) * cos(x)\n",
    "\n",
    "f(pi)"
   ]
  },
  {
   "cell_type": "markdown",
   "metadata": {
    "nbpresent": {
     "id": "324b6256-3c41-446c-a4c1-77461d7e7e3b"
    },
    "slideshow": {
     "slide_type": "slide"
    }
   },
   "source": [
    "### Passing arguments\n",
    "\n",
    "- by position\n",
    "- by key\n",
    "- when mixing: **always** first those by position"
   ]
  },
  {
   "cell_type": "code",
   "execution_count": 26,
   "metadata": {
    "collapsed": true,
    "slideshow": {
     "slide_type": "-"
    }
   },
   "outputs": [],
   "source": [
    "def my_func(p1, p2 ,p3):\n",
    "    pass                     # a statement which does nothing, just to please the syntax"
   ]
  },
  {
   "cell_type": "code",
   "execution_count": 27,
   "metadata": {
    "collapsed": true,
    "nbpresent": {
     "id": "96c5f9e8-970d-4207-816b-47637583c2f1"
    },
    "slideshow": {
     "slide_type": "-"
    }
   },
   "outputs": [],
   "source": [
    "my_func(2, 3, 25)\n",
    "my_func(p3 = 25, p1 = 2, p2 = 3)     # note, how default values are defined\n",
    "my_func(2, 3, p3 = 25)   "
   ]
  },
  {
   "cell_type": "markdown",
   "metadata": {
    "nbpresent": {
     "id": "d6bb04be-9f90-4cbf-9654-40376006a3b8"
    },
    "slideshow": {
     "slide_type": "slide"
    }
   },
   "source": [
    "### Starred Arguments\n",
    "\n",
    "You can expand a list to form positional arguments \n",
    "and a dictionary to form keyword arguments of a function"
   ]
  },
  {
   "cell_type": "code",
   "execution_count": 28,
   "metadata": {
    "collapsed": true,
    "nbpresent": {
     "id": "ed9effa9-8ded-4802-ab93-9c2ff5460fcd"
    },
    "slideshow": {
     "slide_type": "-"
    }
   },
   "outputs": [],
   "source": [
    "li = [2, 3, 25]\n",
    "di={'p1':2, 'p2':3, 'p3':25}\n",
    "my_func(*li)\n",
    "my_func(**di)"
   ]
  },
  {
   "cell_type": "markdown",
   "metadata": {
    "nbpresent": {
     "id": "68dfaa6e-aa03-43c0-98a8-6e76a08c12a6"
    },
    "slideshow": {
     "slide_type": "slide"
    }
   },
   "source": [
    "### Scope of a variable"
   ]
  },
  {
   "cell_type": "code",
   "execution_count": 29,
   "metadata": {
    "collapsed": true,
    "nbpresent": {
     "id": "141a7380-3d00-4db2-8aeb-4b3f71c31205"
    },
    "slideshow": {
     "slide_type": "-"
    }
   },
   "outputs": [],
   "source": [
    "a = 3; l=[1, 2, 3]\n",
    "def func1(b):\n",
    "    return a * b   # a is a global variable\n",
    "\n",
    "def func2(b):\n",
    "    a = 17         # a is a local variable\n",
    "    return a * b"
   ]
  },
  {
   "cell_type": "code",
   "execution_count": 30,
   "metadata": {
    "nbpresent": {
     "id": "1aa832cc-64ef-4234-ac8c-5cb2d7d02d41"
    },
    "slideshow": {
     "slide_type": "-"
    }
   },
   "outputs": [
    {
     "name": "stdout",
     "output_type": "stream",
     "text": [
      "9\n",
      "51\n",
      "-10\n"
     ]
    }
   ],
   "source": [
    "print(func1(3))\n",
    "a = -10              # Be aware of side effects\n",
    "print(func2(3))\n",
    "print(a)"
   ]
  },
  {
   "cell_type": "markdown",
   "metadata": {
    "nbpresent": {
     "id": "dc061d46-a111-478f-8f95-2890054c3cc0"
    },
    "slideshow": {
     "slide_type": "slide"
    }
   },
   "source": [
    "## Arrays and Linear Algebra <a id=\"arrays\"></a>"
   ]
  },
  {
   "cell_type": "code",
   "execution_count": 31,
   "metadata": {
    "nbpresent": {
     "id": "dcf0c6fd-df83-4b23-9000-331a909884ac"
    },
    "slideshow": {
     "slide_type": "-"
    }
   },
   "outputs": [],
   "source": [
    "from scipy import *\n",
    "from scipy.linalg import *"
   ]
  },
  {
   "cell_type": "markdown",
   "metadata": {
    "nbpresent": {
     "id": "99bee923-2a62-4021-b5e6-489abaf844f8"
    },
    "slideshow": {
     "slide_type": "-"
    }
   },
   "source": [
    "a vector ..."
   ]
  },
  {
   "cell_type": "code",
   "execution_count": 32,
   "metadata": {
    "nbpresent": {
     "id": "1601a155-cb4b-4e0c-8714-743f9c3fa4ec"
    },
    "slideshow": {
     "slide_type": "-"
    }
   },
   "outputs": [
    {
     "data": {
      "text/plain": [
       "array([1., 2., 3.])"
      ]
     },
     "execution_count": 32,
     "metadata": {},
     "output_type": "execute_result"
    }
   ],
   "source": [
    "v = array([1.,2.,3.])\n",
    "w = array([1.,0.,1])\n",
    "v.reshape((3,))"
   ]
  },
  {
   "cell_type": "markdown",
   "metadata": {
    "nbpresent": {
     "id": "8db47e98-9667-4eaa-8a0a-be4a5d5c2666"
    },
    "slideshow": {
     "slide_type": "slide"
    }
   },
   "source": [
    "### Dot product, cross product, outer product"
   ]
  },
  {
   "cell_type": "code",
   "execution_count": 33,
   "metadata": {
    "collapsed": true,
    "nbpresent": {
     "id": "543ab2ed-5cad-44d1-9ee4-3a416925fcc5"
    },
    "slideshow": {
     "slide_type": "-"
    }
   },
   "outputs": [],
   "source": [
    "a = v @ w  #  or  a=dot(v,w)\n",
    "A = outer(v,w)\n",
    "u = cross(v,w)"
   ]
  },
  {
   "cell_type": "markdown",
   "metadata": {
    "nbpresent": {
     "id": "f471eb81-20b1-47ed-b5d3-3a9f67b45b40"
    },
    "slideshow": {
     "slide_type": "slide"
    }
   },
   "source": [
    "### Filling vectors"
   ]
  },
  {
   "cell_type": "code",
   "execution_count": 34,
   "metadata": {
    "collapsed": true,
    "nbpresent": {
     "id": "0857dea5-789a-4c2b-b673-677296fcae1f"
    },
    "slideshow": {
     "slide_type": "-"
    }
   },
   "outputs": [],
   "source": [
    "v = linspace(0,3,10)  # filling with equidistant floats\n",
    "i = arange(0,3)  # filling with integers \n",
    "o = ones((3,))\n",
    "z = zeros((3,))\n"
   ]
  },
  {
   "cell_type": "markdown",
   "metadata": {
    "nbpresent": {
     "id": "d5410d07-c284-4ad1-a319-fb7f0eacf7b4"
    },
    "slideshow": {
     "slide_type": "slide"
    }
   },
   "source": [
    "## Matrices are two dimensional arrays"
   ]
  },
  {
   "cell_type": "code",
   "execution_count": 35,
   "metadata": {
    "nbpresent": {
     "id": "fbf2faf6-50e2-48b9-85b0-6bb75ef6006d"
    },
    "slideshow": {
     "slide_type": "-"
    }
   },
   "outputs": [
    {
     "data": {
      "text/plain": [
       "(3, 3)"
      ]
     },
     "execution_count": 35,
     "metadata": {},
     "output_type": "execute_result"
    }
   ],
   "source": [
    "A = array([[1.,2.,7],[7,9,13],[-1,2,6.]])\n",
    "A.shape"
   ]
  },
  {
   "cell_type": "markdown",
   "metadata": {
    "nbpresent": {
     "id": "2058a0b1-0deb-4e85-a1d5-f621f67e7a8f"
    },
    "slideshow": {
     "slide_type": "-"
    }
   },
   "source": [
    "a particular element is adressed by a **dubble index**"
   ]
  },
  {
   "cell_type": "code",
   "execution_count": 36,
   "metadata": {
    "nbpresent": {
     "id": "f7d59786-f759-4f2f-8003-f2efa46398fa"
    },
    "slideshow": {
     "slide_type": "-"
    }
   },
   "outputs": [
    {
     "name": "stdout",
     "output_type": "stream",
     "text": [
      "16.0\n"
     ]
    }
   ],
   "source": [
    "trace = A[0,0] + A[1,1] + A[2,2]\n",
    "print(trace)"
   ]
  },
  {
   "cell_type": "markdown",
   "metadata": {
    "nbpresent": {
     "id": "898d4432-7801-4e65-b8f0-f1ea7dd9c035"
    },
    "slideshow": {
     "slide_type": "-"
    }
   },
   "source": [
    "the same but with list comprehension: "
   ]
  },
  {
   "cell_type": "code",
   "execution_count": 37,
   "metadata": {
    "nbpresent": {
     "id": "dfa7c00c-d7b1-40ae-adce-86d1d1aa92f7"
    },
    "slideshow": {
     "slide_type": "-"
    }
   },
   "outputs": [
    {
     "name": "stdout",
     "output_type": "stream",
     "text": [
      "16.0\n"
     ]
    }
   ],
   "source": [
    "trace = sum( [A[i,i] for i in range(A.shape[0])] )\n",
    "print(trace)"
   ]
  },
  {
   "cell_type": "markdown",
   "metadata": {
    "nbpresent": {
     "id": "a2e18bd1-c265-4efa-b477-c5592313005e"
    },
    "slideshow": {
     "slide_type": "slide"
    }
   },
   "source": [
    "### Filling 2D arrays"
   ]
  },
  {
   "cell_type": "code",
   "execution_count": 38,
   "metadata": {
    "collapsed": true,
    "nbpresent": {
     "id": "902ebb9e-fcf6-453d-8538-36ca61d9b8ca"
    },
    "slideshow": {
     "slide_type": "-"
    }
   },
   "outputs": [],
   "source": [
    "I = eye(3)\n",
    "Z = zeros((3,3))        # the argument is a tuple\n",
    "Z = zeros_like(I)\n",
    "F = 5. * ones((3,3))    # the argument is a tuple\n",
    "R = rand(3,3)           # the argument is *not* a tuple\n",
    "a = pi/3\n",
    "Rot = array([[cos(a), sin(a)],\n",
    "             [-sin(a),cos(a)]])     "
   ]
  },
  {
   "cell_type": "markdown",
   "metadata": {
    "nbpresent": {
     "id": "919de8d7-8e5a-4a9a-8c77-8b7a9510f29c"
    },
    "slideshow": {
     "slide_type": "slide"
    }
   },
   "source": [
    "### Operations on arrays"
   ]
  },
  {
   "cell_type": "code",
   "execution_count": 39,
   "metadata": {
    "nbpresent": {
     "id": "a2aeecd0-6729-4eca-a482-77e764368102"
    },
    "slideshow": {
     "slide_type": "-"
    }
   },
   "outputs": [
    {
     "data": {
      "text/plain": [
       "array([ True,  True])"
      ]
     },
     "execution_count": 39,
     "metadata": {},
     "output_type": "execute_result"
    }
   ],
   "source": [
    "F @ Z\n",
    "v  = array([3,4])\n",
    "vr = Rot @ v\n",
    "\n",
    "from scipy.linalg import solve\n",
    "\n",
    "abs(solve(Rot,vr) - v) < 1.e-8  # mind round-off"
   ]
  },
  {
   "cell_type": "markdown",
   "metadata": {
    "nbpresent": {
     "id": "56994eb2-f7dc-428e-9078-89b82efdfe86"
    },
    "slideshow": {
     "slide_type": "slide"
    }
   },
   "source": [
    "### Views   "
   ]
  },
  {
   "cell_type": "code",
   "execution_count": 40,
   "metadata": {
    "nbpresent": {
     "id": "86eae79a-21a9-4dff-a4c6-392162cb90e5"
    },
    "slideshow": {
     "slide_type": "-"
    }
   },
   "outputs": [
    {
     "name": "stdout",
     "output_type": "stream",
     "text": [
      "17 17\n"
     ]
    }
   ],
   "source": [
    "f = arange(0, 10)\n",
    "F = f.reshape(2, 5)\n",
    "FT = F.T           # the transpose\n",
    "F[-1,-1] = 17\n",
    "print(FT[-1, -1], f[-1]) # everything affected"
   ]
  },
  {
   "cell_type": "markdown",
   "metadata": {
    "nbpresent": {
     "id": "e99c20dc-1298-40b0-b217-15eb6bcf1872"
    },
    "slideshow": {
     "slide_type": "slide"
    }
   },
   "source": [
    "#### Universal functions\n",
    "\n",
    "Many functions operate directly on arrays -- componentwise"
   ]
  },
  {
   "cell_type": "code",
   "execution_count": 41,
   "metadata": {
    "nbpresent": {
     "id": "f485e09d-8599-4a0b-b753-0fdd81a511d2"
    },
    "slideshow": {
     "slide_type": "-"
    }
   },
   "outputs": [
    {
     "data": {
      "text/plain": [
       "array([[ 0,  1,  2,  3,  4],\n",
       "       [ 5,  6,  7,  8, 17]])"
      ]
     },
     "execution_count": 41,
     "metadata": {},
     "output_type": "execute_result"
    }
   ],
   "source": [
    "sin(F)\n",
    "abs(F)"
   ]
  },
  {
   "cell_type": "markdown",
   "metadata": {
    "nbpresent": {
     "id": "f14fea32-7475-4ef0-8dab-cb9d6147cf69"
    },
    "slideshow": {
     "slide_type": "-"
    }
   },
   "source": [
    "Addition, multiplication, division are **elementwise** operations on arrays"
   ]
  },
  {
   "cell_type": "code",
   "execution_count": 42,
   "metadata": {
    "nbpresent": {
     "id": "2803fa29-80b9-4277-9302-c7ca07748d68"
    },
    "slideshow": {
     "slide_type": "-"
    }
   },
   "outputs": [
    {
     "name": "stdout",
     "output_type": "stream",
     "text": [
      "[[ 0  1  2  3  4]\n",
      " [ 5  6  7  8 17]]\n",
      "[[ 0  2  4  6  8]\n",
      " [10 12 14 16 34]]\n",
      "[[  0   1   4   9  16]\n",
      " [ 25  36  49  64 289]]\n"
     ]
    }
   ],
   "source": [
    "print(F)\n",
    "print(F + F)\n",
    "print(F * F)"
   ]
  },
  {
   "cell_type": "markdown",
   "metadata": {
    "nbpresent": {
     "id": "6b983b81-0bdb-44a0-b59b-7216757c1bcb"
    },
    "slideshow": {
     "slide_type": "slide"
    }
   },
   "source": [
    "#### Array Examples\n",
    "\n",
    "A projection matrix $P$ and its eigenvalues and eigenvectors\n",
    "\n",
    "$$\n",
    "P = \\mathrm{I} - \\frac{v v^T}{v^T v}\n",
    "$$"
   ]
  },
  {
   "cell_type": "code",
   "execution_count": 43,
   "metadata": {
    "nbpresent": {
     "id": "b6145dce-64f1-4809-a299-15cae8afdcaa"
    },
    "slideshow": {
     "slide_type": "-"
    }
   },
   "outputs": [
    {
     "name": "stdout",
     "output_type": "stream",
     "text": [
      "P v = [2.22044605e-16 0.00000000e+00 0.00000000e+00 2.22044605e-16\n",
      " 0.00000000e+00]\n",
      "\n",
      "Eigenvalues: \n",
      "\n",
      "[1.+0.j 0.+0.j 1.+0.j 1.+0.j 1.+0.j]\n",
      "\n",
      "Eigenvectors: \n",
      "\n",
      "[[ 0.98130676 -0.19245009  0.22187058  0.          0.        ]\n",
      " [ 0.          0.          0.          1.          0.        ]\n",
      " [ 0.          0.          0.          0.          1.        ]\n",
      " [-0.03774257 -0.19245009 -0.9637218   0.          0.        ]\n",
      " [-0.18871284 -0.96225045  0.14837025  0.          0.        ]]\n"
     ]
    }
   ],
   "source": [
    "from scipy.linalg import *\n",
    "\n",
    "v = array([1., 0., 0., 1., 5.])\n",
    "P = eye(v.shape[0]) - outer(v, v)/(v @ v)\n",
    "\n",
    "evalue, evector = eig(P)\n",
    "print('P v =', P @ v, end=2*'\\n')\n",
    "print('Eigenvalues: ',evalue,\n",
    "      'Eigenvectors: ', evector,sep=2*'\\n')"
   ]
  },
  {
   "cell_type": "code",
   "execution_count": 44,
   "metadata": {
    "nbpresent": {
     "id": "92c1ee13-847c-44cd-87cb-3b73694cf6bd"
    },
    "slideshow": {
     "slide_type": "-"
    }
   },
   "outputs": [
    {
     "name": "stdout",
     "output_type": "stream",
     "text": [
      "v is an eigenvector of the projection matrix corresponding to eigenvalue  0.0\n"
     ]
    }
   ],
   "source": [
    "for i in range(evalue.shape[0]):\n",
    "    if allclose(evector[:,i], -v/norm(v,2)) or allclose(evector[:,i],-v/norm(v,2)):\n",
    "        print('v is an eigenvector of the projection matrix corresponding to eigenvalue ',evalue[i].real)"
   ]
  },
  {
   "cell_type": "markdown",
   "metadata": {
    "nbpresent": {
     "id": "bfbb7c86-5568-4be4-b3d1-7850369d6d4b"
    },
    "slideshow": {
     "slide_type": "slide"
    }
   },
   "source": [
    "### Boolean Arrays"
   ]
  },
  {
   "cell_type": "code",
   "execution_count": 45,
   "metadata": {
    "nbpresent": {
     "id": "60f9a4e3-bb36-4ab4-a9bf-c1b951f75515"
    },
    "slideshow": {
     "slide_type": "-"
    }
   },
   "outputs": [
    {
     "name": "stdout",
     "output_type": "stream",
     "text": [
      "[[0.79513052 0.2886361  0.09312346 0.39255937]\n",
      " [0.36544745 0.09243608 0.46101068 0.18904672]\n",
      " [0.03383226 0.39205689 0.04890219 0.57672891]\n",
      " [0.42758111 0.02100887 0.20230901 0.3542879 ]]\n",
      "\n",
      "[[0.79513052 0.         0.         0.        ]\n",
      " [0.         0.         0.         0.        ]\n",
      " [0.         0.         0.         0.57672891]\n",
      " [0.         0.         0.         0.        ]]\n",
      "\n",
      "[[False  True  True  True]\n",
      " [ True  True  True  True]\n",
      " [ True  True  True False]\n",
      " [ True  True  True  True]]\n"
     ]
    }
   ],
   "source": [
    "A = rand(4,4)\n",
    "small = abs(A) < 0.5\n",
    "\n",
    "C = A.copy()\n",
    "C[small] = 0\n",
    "print(A,C,small,sep=2*'\\n')"
   ]
  },
  {
   "cell_type": "markdown",
   "metadata": {
    "nbpresent": {
     "id": "4070d8eb-e693-492d-80f9-f4cab0ebb745"
    },
    "slideshow": {
     "slide_type": "slide"
    }
   },
   "source": [
    "Continuation from eigenvalue example above \n",
    "\n",
    "(note the decorator `vectorize` to make a universal function)"
   ]
  },
  {
   "cell_type": "code",
   "execution_count": 46,
   "metadata": {
    "nbpresent": {
     "id": "1f0a765f-5378-4b5c-88ab-e460f17b133f"
    },
    "slideshow": {
     "slide_type": "-"
    }
   },
   "outputs": [
    {
     "name": "stdout",
     "output_type": "stream",
     "text": [
      "All eigenvalues of a symmetric projection matrix are either +- 1 or 0\n"
     ]
    }
   ],
   "source": [
    "@vectorize\n",
    "def near(x, y, eps = 1.e-8):\n",
    "    return (y-eps) <  x.real < (y+eps) and -eps < x.imag < eps\n",
    "\n",
    "if (near(abs(evalue),1) + near(evalue,0)).all():\n",
    "    print('All eigenvalues of a symmetric projection matrix are either +- 1 or 0')"
   ]
  },
  {
   "cell_type": "markdown",
   "metadata": {
    "nbpresent": {
     "id": "660868b7-9e0a-4a6d-bf63-cb5f354b02e5"
    },
    "slideshow": {
     "slide_type": "slide"
    }
   },
   "source": [
    "## Elementary Plotting <a id=\"plotting\"></a>\n",
    "\n",
    "write in IPython as one of the first commands `%matplotlib` when you want to want the plots to be embedded in the current session."
   ]
  },
  {
   "cell_type": "code",
   "execution_count": 47,
   "metadata": {
    "collapsed": true,
    "nbpresent": {
     "id": "0ec0b5ee-8d11-48e2-80df-b50bb5c34a82"
    },
    "slideshow": {
     "slide_type": "-"
    }
   },
   "outputs": [],
   "source": [
    "%matplotlib inline"
   ]
  },
  {
   "cell_type": "code",
   "execution_count": 48,
   "metadata": {
    "nbpresent": {
     "id": "2e62f35d-cfab-4ea6-aa7c-a50f419c84ad"
    },
    "slideshow": {
     "slide_type": "-"
    }
   },
   "outputs": [
    {
     "data": {
      "text/plain": [
       "<matplotlib.legend.Legend at 0x7f7f88d089b0>"
      ]
     },
     "execution_count": 48,
     "metadata": {},
     "output_type": "execute_result"
    },
    {
     "data": {
      "image/png": "[encoded data removed]",
      "text/plain": [
       "<matplotlib.figure.Figure at 0x7f7f900868d0>"
      ]
     },
     "metadata": {},
     "output_type": "display_data"
    }
   ],
   "source": [
    "\n",
    "x = linspace(0, 2 * pi, 200)\n",
    "plot(x, sin(x) + 0.1*cos(20*x), label='$\\sin\\,x+0.1\\,\\cos\\,20x$')\n",
    "plot(x, sin(x), 'r', label='$\\sin\\,x$')\n",
    "legend(loc = 'best')"
   ]
  },
  {
   "cell_type": "markdown",
   "metadata": {
    "nbpresent": {
     "id": "f9fa4ea2-1eaf-459f-b084-80617baf34bc"
    },
    "slideshow": {
     "slide_type": "slide"
    }
   },
   "source": [
    "## Exceptions <a id='exceptions'></a>\n"
   ]
  },
  {
   "cell_type": "code",
   "execution_count": 49,
   "metadata": {
    "nbpresent": {
     "id": "a13314d1-1874-4259-9b60-e8ffadfdb30f"
    },
    "slideshow": {
     "slide_type": "-"
    }
   },
   "outputs": [
    {
     "name": "stdout",
     "output_type": "stream",
     "text": [
      "[1, 2, 3, 0, 23, 65]\n",
      "[1.0, 0.5, 0.3333333333333333, 'no inverse', 0.043478260869565216, 0.015384615384615385]\n"
     ]
    }
   ],
   "source": [
    "x_list = [1, 2, 3, 0, 23, 65]\n",
    "y = []\n",
    "\n",
    "for x in x_list:\n",
    "    try:\n",
    "        y.append(1./x)\n",
    "    except ZeroDivisionError:\n",
    "        y.append('no inverse')\n",
    "\n",
    "print(x_list, y, sep='\\n')        "
   ]
  },
  {
   "cell_type": "markdown",
   "metadata": {},
   "source": [
    "Important Exception Types\n",
    "\n",
    "* IndexError\n",
    "* ValueError\n",
    "* NameError\n",
    "* ZeroDivisionError\n",
    "* SyntaxError\n",
    "\n",
    "... or just unspecified.\n",
    "\n",
    "\n",
    "\n"
   ]
  },
  {
   "cell_type": "markdown",
   "metadata": {
    "nbpresent": {
     "id": "3b9c1960-3699-4191-a54d-32228f66b3c6"
    },
    "slideshow": {
     "slide_type": "slide"
    }
   },
   "source": [
    "# Task:  <a id=\"tasks\"></a>\n",
    "\n",
    "1. Generate a vector with random numbers. Check all its elements and count the number of sign changes.\n",
    "2. write a function which takes an axis-label ('x', 'y', 'z') and an angle as input and returns a rotation matrix, e.g., `rot3D(2*pi,'x')` should return a 3D rotation matrix about the 'x'-axis.\n",
    "3. Test if the product of three rotation matrices is orthogonal and has determinant 1\n",
    "4. Compute the eigenvalues of this composed rotation matrix and plot them as small stars in the complex plane.\n"
   ]
  }
 ],
 "metadata": {
  "anaconda-cloud": {},
  "celltoolbar": "Slideshow",
  "kernelspec": {
   "display_name": "Python [default]",
   "language": "python",
   "name": "python3"
  },
  "language_info": {
   "codemirror_mode": {
    "name": "ipython",
    "version": 3
   },
   "file_extension": ".py",
   "mimetype": "text/x-python",
   "name": "python",
   "nbconvert_exporter": "python",
   "pygments_lexer": "ipython3",
   "version": "3.5.2"
  },
  "livereveal": {
   "width": 800
  },
  "nbpresent": {
   "slides": {
    "aaf4ae19-255c-4769-9950-d8f818f64fa6": {
     "id": "aaf4ae19-255c-4769-9950-d8f818f64fa6",
     "prev": null,
     "regions": {
      "70e7c721-158b-4323-bb57-4b898f0ab2d1": {
       "attrs": {
        "height": 1,
        "width": 1,
        "x": -0.0050528846090301454,
        "y": -0.0012832722816584496
       },
       "id": "70e7c721-158b-4323-bb57-4b898f0ab2d1"
      }
     }
    }
   },
   "themes": {}
  }
 },
 "nbformat": 4,
 "nbformat_minor": 1
}
